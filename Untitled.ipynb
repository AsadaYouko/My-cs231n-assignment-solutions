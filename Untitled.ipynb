{
 "cells": [
  {
   "cell_type": "code",
   "execution_count": 3,
   "metadata": {},
   "outputs": [
    {
     "name": "stdout",
     "output_type": "stream",
     "text": [
      "x= 1 \n",
      "\n",
      "x= 2 \n",
      "\n",
      "x= 3 \n",
      "\n",
      "x= 4 \n",
      "\n",
      "x= 5 \n",
      "\n",
      "x= 6 \n",
      "\n"
     ]
    }
   ],
   "source": [
    "import numpy as np\n",
    "x = np.array([[1,2,3],[4,5,6]])\n",
    "it = np.nditer(x, flags=['multi_index'], op_flags=['readwrite'])\n",
    "while not it.finished:\n",
    "    ix = it.multi_index\n",
    "    print('x=',x[ix],'\\n')\n",
    "    it.iternext()"
   ]
  },
  {
   "cell_type": "code",
   "execution_count": 8,
   "metadata": {},
   "outputs": [
    {
     "name": "stdout",
     "output_type": "stream",
     "text": [
      "[[1 0 0]\n",
      " [2 0 0]\n",
      " [3 0 0]]\n"
     ]
    }
   ],
   "source": [
    "import numpy as np\n",
    "x = np.array([[1,2,3],[4,5,6]])\n",
    "w = np.array([[0,0,0],[0,0,0],[0,0,0]])\n",
    "w[:,0] += x[0]\n",
    "print(w)"
   ]
  },
  {
   "cell_type": "code",
   "execution_count": 5,
   "metadata": {},
   "outputs": [
    {
     "name": "stdout",
     "output_type": "stream",
     "text": [
      "4\n"
     ]
    }
   ],
   "source": [
    "import numpy as np\n",
    "x = np.array([[1,2,3],[3,6,2]])\n",
    "print(np.argmax(x[np.arange(x.shape[0]), :]))\n",
    "#x_max = x[np.arange(x.shape[0]), np.argmax(x[np.arange(x.shape[0]), :])]\n",
    "#print(x_max)"
   ]
  },
  {
   "cell_type": "code",
   "execution_count": 6,
   "metadata": {},
   "outputs": [
    {
     "name": "stdout",
     "output_type": "stream",
     "text": [
      "[2, 4, 6, 8]\n",
      "<class 'range'>\n"
     ]
    }
   ],
   "source": [
    "a = list(range(2, 10, 2))\n",
    "print(a)\n",
    "print(type(range(1,3)))\n"
   ]
  },
  {
   "cell_type": "code",
   "execution_count": null,
   "metadata": {},
   "outputs": [],
   "source": []
  },
  {
   "cell_type": "code",
   "execution_count": null,
   "metadata": {},
   "outputs": [],
   "source": []
  }
 ],
 "metadata": {
  "kernelspec": {
   "display_name": "Python 3",
   "language": "python",
   "name": "python3"
  },
  "language_info": {
   "codemirror_mode": {
    "name": "ipython",
    "version": 3
   },
   "file_extension": ".py",
   "mimetype": "text/x-python",
   "name": "python",
   "nbconvert_exporter": "python",
   "pygments_lexer": "ipython3",
   "version": "3.6.5"
  }
 },
 "nbformat": 4,
 "nbformat_minor": 2
}
